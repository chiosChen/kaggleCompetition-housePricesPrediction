{
  "cells": [
    {
      "cell_type": "markdown",
      "metadata": {
        "id": "Qw5NiYf3IfhS"
      },
      "source": [
        "# Preparation"
      ]
    },
    {
      "cell_type": "code",
      "execution_count": 1,
      "metadata": {
        "id": "oChVylOIIm7P"
      },
      "outputs": [],
      "source": [
        "# Essentials\n",
        "import numpy as np\n",
        "import pandas as pd\n",
        "import datetime\n",
        "import random\n",
        "from geopy.distance import geodesic\n",
        "\n",
        "# Plots\n",
        "import seaborn as sns\n",
        "import matplotlib.pyplot as plt\n",
        "\n",
        "from scipy.stats import skew, norm\n",
        "from scipy.special import boxcox1p\n",
        "from scipy.stats import boxcox_normmax\n",
        "from scipy import stats\n",
        "\n",
        "from sklearn.model_selection import GridSearchCV\n",
        "from sklearn.model_selection import KFold, cross_val_score\n",
        "from sklearn.metrics import mean_absolute_error\n",
        "from sklearn.preprocessing import OneHotEncoder\n",
        "from sklearn.preprocessing import LabelEncoder\n",
        "from sklearn.pipeline import make_pipeline\n",
        "from sklearn.preprocessing import scale\n",
        "from sklearn.preprocessing import StandardScaler\n",
        "from sklearn.preprocessing import RobustScaler\n",
        "from sklearn.decomposition import PCA"
      ]
    },
    {
      "cell_type": "code",
      "execution_count": 2,
      "metadata": {
        "id": "np7lSTpBIend"
      },
      "outputs": [],
      "source": [
        "# Import all datasets\n",
        "train = pd.read_csv('/content/train.csv')\n",
        "test = pd.read_csv('/content/test.csv')\n",
        "train_station = pd.read_csv('/content/sg-train-stations.csv')\n",
        "hawker = pd.read_csv('/content/sg-gov-markets-hawker-centres.csv')\n",
        "sp_mall = pd.read_csv('/content/sg-shopping-malls.csv')\n",
        "demographics = pd.read_csv('/content/sg-population-demographics.csv')\n",
        "primary_school = pd.read_csv('/content/sg-primary-schools.csv')\n",
        "secondary_school = pd.read_csv('/content/sg-secondary-schools.csv')\n",
        "commercial_centre = pd.read_csv('/content/sg-commerical-centres.csv')"
      ]
    },
    {
      "cell_type": "code",
      "execution_count": null,
      "metadata": {
        "colab": {
          "base_uri": "https://localhost:8080/",
          "height": 463
        },
        "id": "--OBLSPbJS5C",
        "outputId": "8cfaeb0e-1925-44db-cff4-97297db6975c"
      },
      "outputs": [
        {
          "name": "stdout",
          "output_type": "stream",
          "text": [
            "\n",
            " The training data has 431732 records and 17 features \n",
            "\n"
          ]
        },
        {
          "data": {
            "text/html": [
              "\n",
              "  <div id=\"df-9caccd77-41cb-4be3-af8e-353792fbf515\">\n",
              "    <div class=\"colab-df-container\">\n",
              "      <div>\n",
              "<style scoped>\n",
              "    .dataframe tbody tr th:only-of-type {\n",
              "        vertical-align: middle;\n",
              "    }\n",
              "\n",
              "    .dataframe tbody tr th {\n",
              "        vertical-align: top;\n",
              "    }\n",
              "\n",
              "    .dataframe thead th {\n",
              "        text-align: right;\n",
              "    }\n",
              "</style>\n",
              "<table border=\"1\" class=\"dataframe\">\n",
              "  <thead>\n",
              "    <tr style=\"text-align: right;\">\n",
              "      <th></th>\n",
              "      <th>month</th>\n",
              "      <th>town</th>\n",
              "      <th>flat_type</th>\n",
              "      <th>block</th>\n",
              "      <th>street_name</th>\n",
              "      <th>storey_range</th>\n",
              "      <th>floor_area_sqm</th>\n",
              "      <th>flat_model</th>\n",
              "      <th>eco_category</th>\n",
              "      <th>lease_commence_date</th>\n",
              "      <th>latitude</th>\n",
              "      <th>longitude</th>\n",
              "      <th>elevation</th>\n",
              "      <th>subzone</th>\n",
              "      <th>planning_area</th>\n",
              "      <th>region</th>\n",
              "      <th>resale_price</th>\n",
              "    </tr>\n",
              "  </thead>\n",
              "  <tbody>\n",
              "    <tr>\n",
              "      <th>0</th>\n",
              "      <td>2001-08</td>\n",
              "      <td>pasir ris</td>\n",
              "      <td>4 room</td>\n",
              "      <td>440</td>\n",
              "      <td>pasir ris drive 4</td>\n",
              "      <td>01 to 03</td>\n",
              "      <td>118.0</td>\n",
              "      <td>model a</td>\n",
              "      <td>uncategorized</td>\n",
              "      <td>1989</td>\n",
              "      <td>1.369008</td>\n",
              "      <td>103.958697</td>\n",
              "      <td>0.0</td>\n",
              "      <td>pasir ris drive</td>\n",
              "      <td>pasir ris</td>\n",
              "      <td>east region</td>\n",
              "      <td>209700.0</td>\n",
              "    </tr>\n",
              "    <tr>\n",
              "      <th>1</th>\n",
              "      <td>2014-10</td>\n",
              "      <td>punggol</td>\n",
              "      <td>5-room</td>\n",
              "      <td>196B</td>\n",
              "      <td>punggol field</td>\n",
              "      <td>10 to 12</td>\n",
              "      <td>110.0</td>\n",
              "      <td>improved</td>\n",
              "      <td>uncategorized</td>\n",
              "      <td>2003</td>\n",
              "      <td>1.399007</td>\n",
              "      <td>103.906991</td>\n",
              "      <td>0.0</td>\n",
              "      <td>punggol field</td>\n",
              "      <td>punggol</td>\n",
              "      <td>north-east region</td>\n",
              "      <td>402300.0</td>\n",
              "    </tr>\n",
              "    <tr>\n",
              "      <th>2</th>\n",
              "      <td>2020-09</td>\n",
              "      <td>sengkang</td>\n",
              "      <td>5 room</td>\n",
              "      <td>404A</td>\n",
              "      <td>fernvale lane</td>\n",
              "      <td>01 to 03</td>\n",
              "      <td>112.0</td>\n",
              "      <td>premium apartment</td>\n",
              "      <td>uncategorized</td>\n",
              "      <td>2004</td>\n",
              "      <td>1.388348</td>\n",
              "      <td>103.873815</td>\n",
              "      <td>0.0</td>\n",
              "      <td>fernvale</td>\n",
              "      <td>sengkang</td>\n",
              "      <td>north-east region</td>\n",
              "      <td>351000.0</td>\n",
              "    </tr>\n",
              "    <tr>\n",
              "      <th>3</th>\n",
              "      <td>2000-10</td>\n",
              "      <td>clementi</td>\n",
              "      <td>3 room</td>\n",
              "      <td>375</td>\n",
              "      <td>clementi avenue 4</td>\n",
              "      <td>07 to 09</td>\n",
              "      <td>67.0</td>\n",
              "      <td>new generation</td>\n",
              "      <td>uncategorized</td>\n",
              "      <td>1980</td>\n",
              "      <td>1.318493</td>\n",
              "      <td>103.766702</td>\n",
              "      <td>0.0</td>\n",
              "      <td>clementi north</td>\n",
              "      <td>clementi</td>\n",
              "      <td>west region</td>\n",
              "      <td>151200.0</td>\n",
              "    </tr>\n",
              "    <tr>\n",
              "      <th>4</th>\n",
              "      <td>2013-01</td>\n",
              "      <td>bukit batok</td>\n",
              "      <td>3-room</td>\n",
              "      <td>163</td>\n",
              "      <td>bukit batok street 11</td>\n",
              "      <td>07 to 09</td>\n",
              "      <td>73.0</td>\n",
              "      <td>model a</td>\n",
              "      <td>uncategorized</td>\n",
              "      <td>1985</td>\n",
              "      <td>1.348149</td>\n",
              "      <td>103.742658</td>\n",
              "      <td>0.0</td>\n",
              "      <td>bukit batok west</td>\n",
              "      <td>bukit batok</td>\n",
              "      <td>west region</td>\n",
              "      <td>318600.0</td>\n",
              "    </tr>\n",
              "  </tbody>\n",
              "</table>\n",
              "</div>\n",
              "      <button class=\"colab-df-convert\" onclick=\"convertToInteractive('df-9caccd77-41cb-4be3-af8e-353792fbf515')\"\n",
              "              title=\"Convert this dataframe to an interactive table.\"\n",
              "              style=\"display:none;\">\n",
              "        \n",
              "  <svg xmlns=\"http://www.w3.org/2000/svg\" height=\"24px\"viewBox=\"0 0 24 24\"\n",
              "       width=\"24px\">\n",
              "    <path d=\"M0 0h24v24H0V0z\" fill=\"none\"/>\n",
              "    <path d=\"M18.56 5.44l.94 2.06.94-2.06 2.06-.94-2.06-.94-.94-2.06-.94 2.06-2.06.94zm-11 1L8.5 8.5l.94-2.06 2.06-.94-2.06-.94L8.5 2.5l-.94 2.06-2.06.94zm10 10l.94 2.06.94-2.06 2.06-.94-2.06-.94-.94-2.06-.94 2.06-2.06.94z\"/><path d=\"M17.41 7.96l-1.37-1.37c-.4-.4-.92-.59-1.43-.59-.52 0-1.04.2-1.43.59L10.3 9.45l-7.72 7.72c-.78.78-.78 2.05 0 2.83L4 21.41c.39.39.9.59 1.41.59.51 0 1.02-.2 1.41-.59l7.78-7.78 2.81-2.81c.8-.78.8-2.07 0-2.86zM5.41 20L4 18.59l7.72-7.72 1.47 1.35L5.41 20z\"/>\n",
              "  </svg>\n",
              "      </button>\n",
              "      \n",
              "  <style>\n",
              "    .colab-df-container {\n",
              "      display:flex;\n",
              "      flex-wrap:wrap;\n",
              "      gap: 12px;\n",
              "    }\n",
              "\n",
              "    .colab-df-convert {\n",
              "      background-color: #E8F0FE;\n",
              "      border: none;\n",
              "      border-radius: 50%;\n",
              "      cursor: pointer;\n",
              "      display: none;\n",
              "      fill: #1967D2;\n",
              "      height: 32px;\n",
              "      padding: 0 0 0 0;\n",
              "      width: 32px;\n",
              "    }\n",
              "\n",
              "    .colab-df-convert:hover {\n",
              "      background-color: #E2EBFA;\n",
              "      box-shadow: 0px 1px 2px rgba(60, 64, 67, 0.3), 0px 1px 3px 1px rgba(60, 64, 67, 0.15);\n",
              "      fill: #174EA6;\n",
              "    }\n",
              "\n",
              "    [theme=dark] .colab-df-convert {\n",
              "      background-color: #3B4455;\n",
              "      fill: #D2E3FC;\n",
              "    }\n",
              "\n",
              "    [theme=dark] .colab-df-convert:hover {\n",
              "      background-color: #434B5C;\n",
              "      box-shadow: 0px 1px 3px 1px rgba(0, 0, 0, 0.15);\n",
              "      filter: drop-shadow(0px 1px 2px rgba(0, 0, 0, 0.3));\n",
              "      fill: #FFFFFF;\n",
              "    }\n",
              "  </style>\n",
              "\n",
              "      <script>\n",
              "        const buttonEl =\n",
              "          document.querySelector('#df-9caccd77-41cb-4be3-af8e-353792fbf515 button.colab-df-convert');\n",
              "        buttonEl.style.display =\n",
              "          google.colab.kernel.accessAllowed ? 'block' : 'none';\n",
              "\n",
              "        async function convertToInteractive(key) {\n",
              "          const element = document.querySelector('#df-9caccd77-41cb-4be3-af8e-353792fbf515');\n",
              "          const dataTable =\n",
              "            await google.colab.kernel.invokeFunction('convertToInteractive',\n",
              "                                                     [key], {});\n",
              "          if (!dataTable) return;\n",
              "\n",
              "          const docLinkHtml = 'Like what you see? Visit the ' +\n",
              "            '<a target=\"_blank\" href=https://colab.research.google.com/notebooks/data_table.ipynb>data table notebook</a>'\n",
              "            + ' to learn more about interactive tables.';\n",
              "          element.innerHTML = '';\n",
              "          dataTable['output_type'] = 'display_data';\n",
              "          await google.colab.output.renderOutput(dataTable, element);\n",
              "          const docLink = document.createElement('div');\n",
              "          docLink.innerHTML = docLinkHtml;\n",
              "          element.appendChild(docLink);\n",
              "        }\n",
              "      </script>\n",
              "    </div>\n",
              "  </div>\n",
              "  "
            ],
            "text/plain": [
              "     month         town flat_type block            street_name storey_range  \\\n",
              "0  2001-08    pasir ris    4 room   440      pasir ris drive 4     01 to 03   \n",
              "1  2014-10      punggol    5-room  196B          punggol field     10 to 12   \n",
              "2  2020-09     sengkang    5 room  404A          fernvale lane     01 to 03   \n",
              "3  2000-10     clementi    3 room   375      clementi avenue 4     07 to 09   \n",
              "4  2013-01  bukit batok    3-room   163  bukit batok street 11     07 to 09   \n",
              "\n",
              "   floor_area_sqm         flat_model   eco_category  lease_commence_date  \\\n",
              "0           118.0            model a  uncategorized                 1989   \n",
              "1           110.0           improved  uncategorized                 2003   \n",
              "2           112.0  premium apartment  uncategorized                 2004   \n",
              "3            67.0     new generation  uncategorized                 1980   \n",
              "4            73.0            model a  uncategorized                 1985   \n",
              "\n",
              "   latitude   longitude  elevation           subzone planning_area  \\\n",
              "0  1.369008  103.958697        0.0   pasir ris drive     pasir ris   \n",
              "1  1.399007  103.906991        0.0     punggol field       punggol   \n",
              "2  1.388348  103.873815        0.0          fernvale      sengkang   \n",
              "3  1.318493  103.766702        0.0    clementi north      clementi   \n",
              "4  1.348149  103.742658        0.0  bukit batok west   bukit batok   \n",
              "\n",
              "              region  resale_price  \n",
              "0        east region      209700.0  \n",
              "1  north-east region      402300.0  \n",
              "2  north-east region      351000.0  \n",
              "3        west region      151200.0  \n",
              "4        west region      318600.0  "
            ]
          },
          "execution_count": 3,
          "metadata": {},
          "output_type": "execute_result"
        }
      ],
      "source": [
        "# Have a look of the datasets\n",
        "print('\\n The training data has {} records and {} features \\n'.format(train.shape[0], train.shape[1]))\n",
        "train.head()"
      ]
    },
    {
      "cell_type": "code",
      "execution_count": null,
      "metadata": {
        "colab": {
          "base_uri": "https://localhost:8080/",
          "height": 445
        },
        "id": "xZQPTvkcJ2XJ",
        "outputId": "3dce54f1-95d7-4e19-8cd3-5912a5a9a0c6"
      },
      "outputs": [
        {
          "name": "stdout",
          "output_type": "stream",
          "text": [
            "\n",
            " The test data has 107934 records and 16 features \n",
            "\n"
          ]
        },
        {
          "data": {
            "text/html": [
              "\n",
              "  <div id=\"df-690a2f38-b5a8-4a89-976b-d3c60f4e86cb\">\n",
              "    <div class=\"colab-df-container\">\n",
              "      <div>\n",
              "<style scoped>\n",
              "    .dataframe tbody tr th:only-of-type {\n",
              "        vertical-align: middle;\n",
              "    }\n",
              "\n",
              "    .dataframe tbody tr th {\n",
              "        vertical-align: top;\n",
              "    }\n",
              "\n",
              "    .dataframe thead th {\n",
              "        text-align: right;\n",
              "    }\n",
              "</style>\n",
              "<table border=\"1\" class=\"dataframe\">\n",
              "  <thead>\n",
              "    <tr style=\"text-align: right;\">\n",
              "      <th></th>\n",
              "      <th>month</th>\n",
              "      <th>town</th>\n",
              "      <th>flat_type</th>\n",
              "      <th>block</th>\n",
              "      <th>street_name</th>\n",
              "      <th>storey_range</th>\n",
              "      <th>floor_area_sqm</th>\n",
              "      <th>flat_model</th>\n",
              "      <th>eco_category</th>\n",
              "      <th>lease_commence_date</th>\n",
              "      <th>latitude</th>\n",
              "      <th>longitude</th>\n",
              "      <th>elevation</th>\n",
              "      <th>subzone</th>\n",
              "      <th>planning_area</th>\n",
              "      <th>region</th>\n",
              "    </tr>\n",
              "  </thead>\n",
              "  <tbody>\n",
              "    <tr>\n",
              "      <th>0</th>\n",
              "      <td>2004-01</td>\n",
              "      <td>bukit batok</td>\n",
              "      <td>4 room</td>\n",
              "      <td>186</td>\n",
              "      <td>bukit batok west avenue 6</td>\n",
              "      <td>04 to 06</td>\n",
              "      <td>94.0</td>\n",
              "      <td>new generation</td>\n",
              "      <td>uncategorized</td>\n",
              "      <td>1989</td>\n",
              "      <td>1.346581</td>\n",
              "      <td>103.744085</td>\n",
              "      <td>0.0</td>\n",
              "      <td>bukit batok west</td>\n",
              "      <td>bukit batok</td>\n",
              "      <td>west region</td>\n",
              "    </tr>\n",
              "    <tr>\n",
              "      <th>1</th>\n",
              "      <td>2001-11</td>\n",
              "      <td>tampines</td>\n",
              "      <td>5 room</td>\n",
              "      <td>366</td>\n",
              "      <td>tampines street 34</td>\n",
              "      <td>04 to 06</td>\n",
              "      <td>122.0</td>\n",
              "      <td>improved</td>\n",
              "      <td>uncategorized</td>\n",
              "      <td>1997</td>\n",
              "      <td>1.357618</td>\n",
              "      <td>103.961379</td>\n",
              "      <td>0.0</td>\n",
              "      <td>tampines east</td>\n",
              "      <td>tampines</td>\n",
              "      <td>east region</td>\n",
              "    </tr>\n",
              "    <tr>\n",
              "      <th>2</th>\n",
              "      <td>2002-07</td>\n",
              "      <td>jurong east</td>\n",
              "      <td>3 room</td>\n",
              "      <td>206</td>\n",
              "      <td>jurong east street 21</td>\n",
              "      <td>01 to 03</td>\n",
              "      <td>67.0</td>\n",
              "      <td>new generation</td>\n",
              "      <td>uncategorized</td>\n",
              "      <td>1982</td>\n",
              "      <td>1.337804</td>\n",
              "      <td>103.741998</td>\n",
              "      <td>0.0</td>\n",
              "      <td>toh guan</td>\n",
              "      <td>jurong east</td>\n",
              "      <td>west region</td>\n",
              "    </tr>\n",
              "    <tr>\n",
              "      <th>3</th>\n",
              "      <td>2015-04</td>\n",
              "      <td>ang mo kio</td>\n",
              "      <td>3 room</td>\n",
              "      <td>180</td>\n",
              "      <td>Ang Mo Kio Avenue 5</td>\n",
              "      <td>04 to 06</td>\n",
              "      <td>82.0</td>\n",
              "      <td>new generation</td>\n",
              "      <td>uncategorized</td>\n",
              "      <td>1981</td>\n",
              "      <td>1.380084</td>\n",
              "      <td>103.849574</td>\n",
              "      <td>0.0</td>\n",
              "      <td>yio chu kang east</td>\n",
              "      <td>ang mo kio</td>\n",
              "      <td>north-east region</td>\n",
              "    </tr>\n",
              "    <tr>\n",
              "      <th>4</th>\n",
              "      <td>2004-04</td>\n",
              "      <td>clementi</td>\n",
              "      <td>5 room</td>\n",
              "      <td>356</td>\n",
              "      <td>clementi avenue 2</td>\n",
              "      <td>01 to 03</td>\n",
              "      <td>117.0</td>\n",
              "      <td>standard</td>\n",
              "      <td>uncategorized</td>\n",
              "      <td>1978</td>\n",
              "      <td>1.313960</td>\n",
              "      <td>103.769831</td>\n",
              "      <td>0.0</td>\n",
              "      <td>clementi north</td>\n",
              "      <td>clementi</td>\n",
              "      <td>west region</td>\n",
              "    </tr>\n",
              "  </tbody>\n",
              "</table>\n",
              "</div>\n",
              "      <button class=\"colab-df-convert\" onclick=\"convertToInteractive('df-690a2f38-b5a8-4a89-976b-d3c60f4e86cb')\"\n",
              "              title=\"Convert this dataframe to an interactive table.\"\n",
              "              style=\"display:none;\">\n",
              "        \n",
              "  <svg xmlns=\"http://www.w3.org/2000/svg\" height=\"24px\"viewBox=\"0 0 24 24\"\n",
              "       width=\"24px\">\n",
              "    <path d=\"M0 0h24v24H0V0z\" fill=\"none\"/>\n",
              "    <path d=\"M18.56 5.44l.94 2.06.94-2.06 2.06-.94-2.06-.94-.94-2.06-.94 2.06-2.06.94zm-11 1L8.5 8.5l.94-2.06 2.06-.94-2.06-.94L8.5 2.5l-.94 2.06-2.06.94zm10 10l.94 2.06.94-2.06 2.06-.94-2.06-.94-.94-2.06-.94 2.06-2.06.94z\"/><path d=\"M17.41 7.96l-1.37-1.37c-.4-.4-.92-.59-1.43-.59-.52 0-1.04.2-1.43.59L10.3 9.45l-7.72 7.72c-.78.78-.78 2.05 0 2.83L4 21.41c.39.39.9.59 1.41.59.51 0 1.02-.2 1.41-.59l7.78-7.78 2.81-2.81c.8-.78.8-2.07 0-2.86zM5.41 20L4 18.59l7.72-7.72 1.47 1.35L5.41 20z\"/>\n",
              "  </svg>\n",
              "      </button>\n",
              "      \n",
              "  <style>\n",
              "    .colab-df-container {\n",
              "      display:flex;\n",
              "      flex-wrap:wrap;\n",
              "      gap: 12px;\n",
              "    }\n",
              "\n",
              "    .colab-df-convert {\n",
              "      background-color: #E8F0FE;\n",
              "      border: none;\n",
              "      border-radius: 50%;\n",
              "      cursor: pointer;\n",
              "      display: none;\n",
              "      fill: #1967D2;\n",
              "      height: 32px;\n",
              "      padding: 0 0 0 0;\n",
              "      width: 32px;\n",
              "    }\n",
              "\n",
              "    .colab-df-convert:hover {\n",
              "      background-color: #E2EBFA;\n",
              "      box-shadow: 0px 1px 2px rgba(60, 64, 67, 0.3), 0px 1px 3px 1px rgba(60, 64, 67, 0.15);\n",
              "      fill: #174EA6;\n",
              "    }\n",
              "\n",
              "    [theme=dark] .colab-df-convert {\n",
              "      background-color: #3B4455;\n",
              "      fill: #D2E3FC;\n",
              "    }\n",
              "\n",
              "    [theme=dark] .colab-df-convert:hover {\n",
              "      background-color: #434B5C;\n",
              "      box-shadow: 0px 1px 3px 1px rgba(0, 0, 0, 0.15);\n",
              "      filter: drop-shadow(0px 1px 2px rgba(0, 0, 0, 0.3));\n",
              "      fill: #FFFFFF;\n",
              "    }\n",
              "  </style>\n",
              "\n",
              "      <script>\n",
              "        const buttonEl =\n",
              "          document.querySelector('#df-690a2f38-b5a8-4a89-976b-d3c60f4e86cb button.colab-df-convert');\n",
              "        buttonEl.style.display =\n",
              "          google.colab.kernel.accessAllowed ? 'block' : 'none';\n",
              "\n",
              "        async function convertToInteractive(key) {\n",
              "          const element = document.querySelector('#df-690a2f38-b5a8-4a89-976b-d3c60f4e86cb');\n",
              "          const dataTable =\n",
              "            await google.colab.kernel.invokeFunction('convertToInteractive',\n",
              "                                                     [key], {});\n",
              "          if (!dataTable) return;\n",
              "\n",
              "          const docLinkHtml = 'Like what you see? Visit the ' +\n",
              "            '<a target=\"_blank\" href=https://colab.research.google.com/notebooks/data_table.ipynb>data table notebook</a>'\n",
              "            + ' to learn more about interactive tables.';\n",
              "          element.innerHTML = '';\n",
              "          dataTable['output_type'] = 'display_data';\n",
              "          await google.colab.output.renderOutput(dataTable, element);\n",
              "          const docLink = document.createElement('div');\n",
              "          docLink.innerHTML = docLinkHtml;\n",
              "          element.appendChild(docLink);\n",
              "        }\n",
              "      </script>\n",
              "    </div>\n",
              "  </div>\n",
              "  "
            ],
            "text/plain": [
              "     month         town flat_type block                street_name  \\\n",
              "0  2004-01  bukit batok    4 room   186  bukit batok west avenue 6   \n",
              "1  2001-11     tampines    5 room   366         tampines street 34   \n",
              "2  2002-07  jurong east    3 room   206      jurong east street 21   \n",
              "3  2015-04   ang mo kio    3 room   180        Ang Mo Kio Avenue 5   \n",
              "4  2004-04     clementi    5 room   356          clementi avenue 2   \n",
              "\n",
              "  storey_range  floor_area_sqm      flat_model   eco_category  \\\n",
              "0     04 to 06            94.0  new generation  uncategorized   \n",
              "1     04 to 06           122.0        improved  uncategorized   \n",
              "2     01 to 03            67.0  new generation  uncategorized   \n",
              "3     04 to 06            82.0  new generation  uncategorized   \n",
              "4     01 to 03           117.0        standard  uncategorized   \n",
              "\n",
              "   lease_commence_date  latitude   longitude  elevation            subzone  \\\n",
              "0                 1989  1.346581  103.744085        0.0   bukit batok west   \n",
              "1                 1997  1.357618  103.961379        0.0      tampines east   \n",
              "2                 1982  1.337804  103.741998        0.0           toh guan   \n",
              "3                 1981  1.380084  103.849574        0.0  yio chu kang east   \n",
              "4                 1978  1.313960  103.769831        0.0     clementi north   \n",
              "\n",
              "  planning_area             region  \n",
              "0   bukit batok        west region  \n",
              "1      tampines        east region  \n",
              "2   jurong east        west region  \n",
              "3    ang mo kio  north-east region  \n",
              "4      clementi        west region  "
            ]
          },
          "execution_count": 4,
          "metadata": {},
          "output_type": "execute_result"
        }
      ],
      "source": [
        "# Test data\n",
        "print('\\n The test data has {} records and {} features \\n'.format(test.shape[0], test.shape[1]))\n",
        "test.head()"
      ]
    },
    {
      "cell_type": "markdown",
      "metadata": {
        "id": "e6il7mfoiPGO"
      },
      "source": [
        "# ***Feature Engineering***"
      ]
    },
    {
      "cell_type": "markdown",
      "metadata": {
        "id": "MyyOxtB9i646"
      },
      "source": [
        "We have recognized that the distribution of **'resale_price'** is right skewed. \n",
        "\n",
        "*However, most ML models, especially regression models, do not like non-normally distributed data.*\n",
        "\n",
        "To handle that, we apply **log(1+x) tranform** to fix skew. \n",
        "\n",
        "\n"
      ]
    },
    {
      "cell_type": "code",
      "execution_count": 3,
      "metadata": {
        "id": "vYf4wL8qiCm9"
      },
      "outputs": [],
      "source": [
        "train['resale_price'] = np.log1p(train[\"resale_price\"])"
      ]
    },
    {
      "cell_type": "markdown",
      "metadata": {
        "id": "3LOF9TECvRg6"
      },
      "source": [
        "Let's plot the distribution again"
      ]
    },
    {
      "cell_type": "code",
      "execution_count": null,
      "metadata": {
        "colab": {
          "base_uri": "https://localhost:8080/",
          "height": 1000
        },
        "id": "KqRduQ_jvN42",
        "outputId": "e18c86a2-4c1f-473b-a93a-98bfb0f1bc98"
      },
      "outputs": [
        {
          "name": "stdout",
          "output_type": "stream",
          "text": [
            "\n",
            " mean = 12.53 and variance = 0.43\n",
            "\n"
          ]
        },
        {
          "data": {
            "image/png": "[encoded data removed]",
            "text/plain": [
              "<Figure size 500x500 with 1 Axes>"
            ]
          },
          "metadata": {},
          "output_type": "display_data"
        },
        {
          "name": "stdout",
          "output_type": "stream",
          "text": [
            "\n",
            " Skewness: -0.1867011548358452,  Kurtosis: -0.21147737112136067 \n",
            "\n"
          ]
        },
        {
          "data": {
            "image/png": "[encoded data removed]",
            "text/plain": [
              "<Figure size 640x480 with 1 Axes>"
            ]
          },
          "metadata": {},
          "output_type": "display_data"
        }
      ],
      "source": [
        "sns.displot(train['resale_price'], kde=True);\n",
        "\n",
        "# Get the distribution parameters\n",
        "(mean, variance) = norm.fit(train['resale_price'])\n",
        "print( '\\n mean = {:.2f} and variance = {:.2f}\\n'.format(mean, variance))\n",
        "\n",
        "# Plot the distribution\n",
        "plt.legend(['Normal dist. ($\\mu=$ {:.2f} and $\\sigma=$ {:.2f} )'.format(mean, variance)],\n",
        "            loc='best')\n",
        "plt.ylabel('Frequency')\n",
        "plt.title('Resale Price Distribution')\n",
        "plt.show()\n",
        "\n",
        "# And the probability plot \n",
        "print('\\n Skewness: {},  Kurtosis: {} \\n'.format(train['resale_price'].skew(), train['resale_price'].kurt()))\n",
        "fig = plt.figure()\n",
        "res = stats.probplot(train['resale_price'], plot=plt)\n",
        "plt.show()"
      ]
    },
    {
      "cell_type": "markdown",
      "metadata": {
        "id": "LZgjze3UbXlE"
      },
      "source": [
        "*Much better now!*\n",
        "\n",
        "\n",
        "---\n",
        "\n",
        "*Let's do some more preparation before further processing*"
      ]
    },
    {
      "cell_type": "code",
      "execution_count": 4,
      "metadata": {
        "colab": {
          "base_uri": "https://localhost:8080/"
        },
        "id": "UfzirwQKv6rc",
        "outputId": "54e6fdd0-091f-4dc7-91e1-585d2fc75515"
      },
      "outputs": [
        {
          "name": "stdout",
          "output_type": "stream",
          "text": [
            "The combined dataset has 539666 rows and 16 columns\n"
          ]
        }
      ],
      "source": [
        "# Split features and labels\n",
        "target_variable = train['resale_price'].reset_index(drop=True)\n",
        "train = train.drop(['resale_price'], axis=1)\n",
        "\n",
        "# Combine traning and testing data for feature transformation\n",
        "df = pd.concat([train, test]).reset_index(drop=True)\n",
        "print('The combined dataset has {} rows and {} columns'.format(df.shape[0], df.shape[1]))"
      ]
    },
    {
      "cell_type": "code",
      "execution_count": 5,
      "metadata": {
        "id": "216eJBfBoa-E"
      },
      "outputs": [],
      "source": [
        "# Save a copy\n",
        "df.to_csv('data_combined.csv', index=False)"
      ]
    },
    {
      "cell_type": "markdown",
      "metadata": {
        "id": "ZNohRii84CGs"
      },
      "source": [
        "### Drop redundant features\n",
        "\n",
        "*removing redundant/unimportant features can help us reduce data dimensionality*"
      ]
    },
    {
      "cell_type": "code",
      "execution_count": 7,
      "metadata": {
        "colab": {
          "base_uri": "https://localhost:8080/"
        },
        "id": "ZTnlydJ2Tll3",
        "outputId": "dd54eedd-3a96-472f-cdbe-978fc112700f"
      },
      "outputs": [
        {
          "name": "stdout",
          "output_type": "stream",
          "text": [
            "month: has 251 unique values\n",
            "----------------------------------\n",
            "town: has 26 unique values\n",
            "----------------------------------\n",
            "flat_type: has 12 unique values\n",
            "----------------------------------\n",
            "block: has 2475 unique values\n",
            "----------------------------------\n",
            "street_name: has 1103 unique values\n",
            "----------------------------------\n",
            "storey_range: has 25 unique values\n",
            "----------------------------------\n",
            "floor_area_sqm: has 189 unique values\n",
            "----------------------------------\n",
            "flat_model: has 20 unique values\n",
            "----------------------------------\n",
            "eco_category: has 1 unique values\n",
            "----------------------------------\n",
            "lease_commence_date: has 54 unique values\n",
            "----------------------------------\n",
            "latitude: has 9145 unique values\n",
            "----------------------------------\n",
            "longitude: has 9145 unique values\n",
            "----------------------------------\n",
            "elevation: has 1 unique values\n",
            "----------------------------------\n",
            "subzone: has 155 unique values\n",
            "----------------------------------\n",
            "planning_area: has 32 unique values\n",
            "----------------------------------\n",
            "region: has 5 unique values\n",
            "----------------------------------\n"
          ]
        }
      ],
      "source": [
        "# 'elevation' and 'eco_category' are redundant features as they both have only one unique value\n",
        "redundant_features = []\n",
        "\n",
        "for col in df.columns:\n",
        "  unique = df[col].nunique()\n",
        "  print('{}: has {} unique values'.format(col, unique))\n",
        "  print('----------------------------------')\n",
        "  if unique == 1: \n",
        "    redundant_features.append(col)"
      ]
    },
    {
      "cell_type": "code",
      "execution_count": 8,
      "metadata": {
        "id": "M93Y2FbDcuS1"
      },
      "outputs": [],
      "source": [
        "# 'block' is considered to be redundant since block numbers of Singapore HDB flat do not bear useful information\n",
        "redundant_features += ['block', 'street_name']"
      ]
    },
    {
      "cell_type": "code",
      "execution_count": 9,
      "metadata": {
        "colab": {
          "base_uri": "https://localhost:8080/"
        },
        "id": "pB3ndLsER4IL",
        "outputId": "b6a200b2-bb9a-483b-fe57-dac8353f1a59"
      },
      "outputs": [
        {
          "name": "stdout",
          "output_type": "stream",
          "text": [
            "Before dropping redundant features, the dataset has 539666 rows and 16 columns\n",
            "After dropping redundant features, the dataset has 539666 rows and 12 columns\n"
          ]
        }
      ],
      "source": [
        "# drop the redundant features\n",
        "print('Before dropping redundant features, the dataset has {} rows and {} columns'.format(df.shape[0], df.shape[1]))\n",
        "df = df.drop(redundant_features, axis=1)\n",
        "print('After dropping redundant features, the dataset has {} rows and {} columns'.format(df.shape[0], df.shape[1]))"
      ]
    },
    {
      "cell_type": "code",
      "execution_count": 10,
      "metadata": {
        "id": "-1YtoUEto0W0"
      },
      "outputs": [],
      "source": [
        "# Save a copy\n",
        "df.to_csv('data_redundant_dropped.csv', index=False)"
      ]
    },
    {
      "cell_type": "markdown",
      "metadata": {
        "id": "_aUKp12LITC5"
      },
      "source": [
        "### Create new features\n",
        "\n",
        "Now let's create some interesting features"
      ]
    },
    {
      "cell_type": "code",
      "execution_count": 11,
      "metadata": {
        "id": "YHgvhmHcVJuh"
      },
      "outputs": [],
      "source": [
        "population = pd.DataFrame(columns=['planning_area', 'subzone', '0-19', '20-39', '40-59', '60+'])\n",
        "age_list = [['0-4', '5-9', '10-14', '15-19'], ['20-24', '25-29', '30-34', '35-39'],\n",
        "            ['40-44', '45-49', '50-54', '55-59'], ['60-64', '65-69', '70-74',\n",
        "                                                    '75-79', '80-84', '85+']]\n",
        "df.planning_area = df.planning_area.str.lower()\n",
        "df.planning_area = df.planning_area.str.replace(' ', '')\n",
        "demographics.plannin_area = demographics.plannin_area.str.lower()\n",
        "demographics.plannin_area = demographics.plannin_area.str.replace(' ', '')\n",
        "\n",
        "df.subzone = df.subzone.str.lower()\n",
        "df.subzone = df.subzone.str.replace(' ', '')\n",
        "demographics.subzone = demographics.subzone.str.lower()\n",
        "demographics.subzone = demographics.subzone.str.replace(' ', '')\n",
        "\n",
        "area_list = list(demographics.groupby(['plannin_area', 'subzone']).groups.keys())\n",
        "for p, s in area_list:\n",
        "    temp = demographics[(demographics.plannin_area == p) & (demographics.subzone == s)]\n",
        "    temp_res = [p, s]\n",
        "    for age in age_list:\n",
        "        temp_res.append(temp[temp.age_group.isin(age)]['count'].sum())\n",
        "    population.loc[len(population.index)] = temp_res\n",
        "    \n",
        "df = pd.merge(df, population, how='left', on=['planning_area', 'subzone'])\n"
      ]
    },
    {
      "cell_type": "code",
      "execution_count": null,
      "metadata": {
        "id": "U6hyhRsD4a6k"
      },
      "outputs": [],
      "source": [
        "\n",
        "def binary_feature_generator(flats, infrastructure, distance):\n",
        "  res = []\n",
        "  for flat_location in flats:\n",
        "    cnt = 0\n",
        "    for infra_location in infrastructure:\n",
        "      # The distance is calculated using geopy.distance.geodesic\n",
        "      if geodesic(flat_location, infra_location).km <= distance:\n",
        "        cnt+=1\n",
        "    res.append(cnt)\n",
        "  return res"
      ]
    },
    {
      "cell_type": "code",
      "execution_count": null,
      "metadata": {
        "id": "LNI91G2_-Psb"
      },
      "outputs": [],
      "source": [
        "flats_loc = df[['latitude', 'longitude']].to_numpy()\n",
        "# MRT\n",
        "train_station_bin = binary_feature_generator(flats_loc, train_station[['lat', 'lng']].to_numpy(), 0.5)\n",
        "\n",
        "# Shopping Mall\n",
        "sp_mall_bin = binary_feature_generator(flats_loc, sp_mall[['lat', 'lng']].to_numpy(), 0.5)\n",
        "\n",
        "# Primary school\n",
        "secondary_school_bin = binary_feature_generator(flats_loc, secondary_school[['lat', 'lng']].to_numpy(), 0.5)\n",
        "\n",
        "# Secondary school\n",
        "primary_school_bin = binary_feature_generator(flats_loc, primary_school[['lat', 'lng']].to_numpy(), 0.5)\n",
        "\n",
        "# Hawkers\n",
        "hawker_bin = binary_feature_generator(flats_loc, hawker[['lat', 'lng']].to_numpy(), 0.5)\n",
        "\n",
        "# Commercial Centre\n",
        "commercial_centre_bin = binary_feature_generator(flats_loc, commercial_centre[['lat', 'lng']].to_numpy(), 0.5)"
      ]
    },
    {
      "cell_type": "code",
      "execution_count": null,
      "metadata": {
        "colab": {
          "base_uri": "https://localhost:8080/"
        },
        "id": "3-DsWM0RqnRV",
        "outputId": "e42a6d31-5074-42ab-8b1f-35657956abee"
      },
      "outputs": [
        {
          "name": "stdout",
          "output_type": "stream",
          "text": [
            "The dataset has 539666 rows and 6 columns\n"
          ]
        }
      ],
      "source": [
        "generated_features = pd.DataFrame({\n",
        "    'mrt': train_station_bin, \n",
        "    'sp_mall': sp_mall_bin, 'secondary_school': secondary_school_bin, \n",
        "    'primary_school': primary_school_bin, 'hawker': hawker_bin, \n",
        "    'commercial_centre': commercial_centre_bin\n",
        "    })\n",
        "print('The dataset has {} rows and {} columns'.format(generated_features.shape[0], generated_features.shape[1])) \n",
        "# save the dataset to csv\n",
        "generated_features.to_csv('generated_features.csv', index=False)"
      ]
    },
    {
      "cell_type": "code",
      "execution_count": 14,
      "metadata": {
        "id": "vKYoD58BrSvY"
      },
      "outputs": [],
      "source": [
        "df = pd.concat([df, generated_features], axis = 1).reset_index(drop=True)"
      ]
    },
    {
      "cell_type": "code",
      "execution_count": 16,
      "metadata": {
        "id": "w-_6GgluYXaF"
      },
      "outputs": [],
      "source": [
        "# Create another feature named 'remaining_lease' denoting the remaining years of lease of the flat when it is sold\n",
        "remaining_lease = 99 - df['month'].str[:4].apply(lambda x: int(x)) + df['lease_commence_date']\n",
        "df['remaining_lease'] = remaining_lease"
      ]
    },
    {
      "cell_type": "code",
      "execution_count": 23,
      "metadata": {
        "colab": {
          "base_uri": "https://localhost:8080/",
          "height": 440
        },
        "id": "wOjpkyQVGybT",
        "outputId": "8324ae3c-c325-4b53-8e85-9668b0dc1e81"
      },
      "outputs": [
        {
          "name": "stdout",
          "output_type": "stream",
          "text": [
            "\n",
            "The dataset now has 23 features\n",
            "\n"
          ]
        },
        {
          "data": {
            "text/html": [
              "\n",
              "  <div id=\"df-9e8fd144-227d-4fa6-bca4-c2d9ce483f6a\">\n",
              "    <div class=\"colab-df-container\">\n",
              "      <div>\n",
              "<style scoped>\n",
              "    .dataframe tbody tr th:only-of-type {\n",
              "        vertical-align: middle;\n",
              "    }\n",
              "\n",
              "    .dataframe tbody tr th {\n",
              "        vertical-align: top;\n",
              "    }\n",
              "\n",
              "    .dataframe thead th {\n",
              "        text-align: right;\n",
              "    }\n",
              "</style>\n",
              "<table border=\"1\" class=\"dataframe\">\n",
              "  <thead>\n",
              "    <tr style=\"text-align: right;\">\n",
              "      <th></th>\n",
              "      <th>month</th>\n",
              "      <th>town</th>\n",
              "      <th>flat_type</th>\n",
              "      <th>storey_range</th>\n",
              "      <th>floor_area_sqm</th>\n",
              "      <th>flat_model</th>\n",
              "      <th>lease_commence_date</th>\n",
              "      <th>latitude</th>\n",
              "      <th>longitude</th>\n",
              "      <th>subzone</th>\n",
              "      <th>...</th>\n",
              "      <th>20-39</th>\n",
              "      <th>40-59</th>\n",
              "      <th>60+</th>\n",
              "      <th>mrt</th>\n",
              "      <th>sp_mall</th>\n",
              "      <th>secondary_school</th>\n",
              "      <th>primary_school</th>\n",
              "      <th>hawker</th>\n",
              "      <th>commercial_centre</th>\n",
              "      <th>remaining_lease</th>\n",
              "    </tr>\n",
              "  </thead>\n",
              "  <tbody>\n",
              "    <tr>\n",
              "      <th>0</th>\n",
              "      <td>2001-08</td>\n",
              "      <td>pasir ris</td>\n",
              "      <td>4 room</td>\n",
              "      <td>01 to 03</td>\n",
              "      <td>118.0</td>\n",
              "      <td>model a</td>\n",
              "      <td>1989</td>\n",
              "      <td>1.369008</td>\n",
              "      <td>103.958697</td>\n",
              "      <td>pasirrisdrive</td>\n",
              "      <td>...</td>\n",
              "      <td>17070.0</td>\n",
              "      <td>20220.0</td>\n",
              "      <td>8200.0</td>\n",
              "      <td>0</td>\n",
              "      <td>0</td>\n",
              "      <td>0</td>\n",
              "      <td>0</td>\n",
              "      <td>0</td>\n",
              "      <td>0</td>\n",
              "      <td>87</td>\n",
              "    </tr>\n",
              "    <tr>\n",
              "      <th>1</th>\n",
              "      <td>2014-10</td>\n",
              "      <td>punggol</td>\n",
              "      <td>5-room</td>\n",
              "      <td>10 to 12</td>\n",
              "      <td>110.0</td>\n",
              "      <td>improved</td>\n",
              "      <td>2003</td>\n",
              "      <td>1.399007</td>\n",
              "      <td>103.906991</td>\n",
              "      <td>punggolfield</td>\n",
              "      <td>...</td>\n",
              "      <td>12410.0</td>\n",
              "      <td>13550.0</td>\n",
              "      <td>4990.0</td>\n",
              "      <td>1</td>\n",
              "      <td>0</td>\n",
              "      <td>1</td>\n",
              "      <td>0</td>\n",
              "      <td>0</td>\n",
              "      <td>0</td>\n",
              "      <td>88</td>\n",
              "    </tr>\n",
              "    <tr>\n",
              "      <th>2</th>\n",
              "      <td>2020-09</td>\n",
              "      <td>sengkang</td>\n",
              "      <td>5 room</td>\n",
              "      <td>01 to 03</td>\n",
              "      <td>112.0</td>\n",
              "      <td>premium apartment</td>\n",
              "      <td>2004</td>\n",
              "      <td>1.388348</td>\n",
              "      <td>103.873815</td>\n",
              "      <td>fernvale</td>\n",
              "      <td>...</td>\n",
              "      <td>13740.0</td>\n",
              "      <td>8090.0</td>\n",
              "      <td>3760.0</td>\n",
              "      <td>1</td>\n",
              "      <td>1</td>\n",
              "      <td>0</td>\n",
              "      <td>0</td>\n",
              "      <td>0</td>\n",
              "      <td>0</td>\n",
              "      <td>83</td>\n",
              "    </tr>\n",
              "    <tr>\n",
              "      <th>3</th>\n",
              "      <td>2000-10</td>\n",
              "      <td>clementi</td>\n",
              "      <td>3 room</td>\n",
              "      <td>07 to 09</td>\n",
              "      <td>67.0</td>\n",
              "      <td>new generation</td>\n",
              "      <td>1980</td>\n",
              "      <td>1.318493</td>\n",
              "      <td>103.766702</td>\n",
              "      <td>clementinorth</td>\n",
              "      <td>...</td>\n",
              "      <td>7650.0</td>\n",
              "      <td>8600.0</td>\n",
              "      <td>7820.0</td>\n",
              "      <td>1</td>\n",
              "      <td>1</td>\n",
              "      <td>0</td>\n",
              "      <td>0</td>\n",
              "      <td>0</td>\n",
              "      <td>0</td>\n",
              "      <td>79</td>\n",
              "    </tr>\n",
              "    <tr>\n",
              "      <th>4</th>\n",
              "      <td>2013-01</td>\n",
              "      <td>bukit batok</td>\n",
              "      <td>3-room</td>\n",
              "      <td>07 to 09</td>\n",
              "      <td>73.0</td>\n",
              "      <td>model a</td>\n",
              "      <td>1985</td>\n",
              "      <td>1.348149</td>\n",
              "      <td>103.742658</td>\n",
              "      <td>bukitbatokwest</td>\n",
              "      <td>...</td>\n",
              "      <td>4400.0</td>\n",
              "      <td>4900.0</td>\n",
              "      <td>2740.0</td>\n",
              "      <td>0</td>\n",
              "      <td>0</td>\n",
              "      <td>0</td>\n",
              "      <td>0</td>\n",
              "      <td>0</td>\n",
              "      <td>0</td>\n",
              "      <td>71</td>\n",
              "    </tr>\n",
              "  </tbody>\n",
              "</table>\n",
              "<p>5 rows × 23 columns</p>\n",
              "</div>\n",
              "      <button class=\"colab-df-convert\" onclick=\"convertToInteractive('df-9e8fd144-227d-4fa6-bca4-c2d9ce483f6a')\"\n",
              "              title=\"Convert this dataframe to an interactive table.\"\n",
              "              style=\"display:none;\">\n",
              "        \n",
              "  <svg xmlns=\"http://www.w3.org/2000/svg\" height=\"24px\"viewBox=\"0 0 24 24\"\n",
              "       width=\"24px\">\n",
              "    <path d=\"M0 0h24v24H0V0z\" fill=\"none\"/>\n",
              "    <path d=\"M18.56 5.44l.94 2.06.94-2.06 2.06-.94-2.06-.94-.94-2.06-.94 2.06-2.06.94zm-11 1L8.5 8.5l.94-2.06 2.06-.94-2.06-.94L8.5 2.5l-.94 2.06-2.06.94zm10 10l.94 2.06.94-2.06 2.06-.94-2.06-.94-.94-2.06-.94 2.06-2.06.94z\"/><path d=\"M17.41 7.96l-1.37-1.37c-.4-.4-.92-.59-1.43-.59-.52 0-1.04.2-1.43.59L10.3 9.45l-7.72 7.72c-.78.78-.78 2.05 0 2.83L4 21.41c.39.39.9.59 1.41.59.51 0 1.02-.2 1.41-.59l7.78-7.78 2.81-2.81c.8-.78.8-2.07 0-2.86zM5.41 20L4 18.59l7.72-7.72 1.47 1.35L5.41 20z\"/>\n",
              "  </svg>\n",
              "      </button>\n",
              "      \n",
              "  <style>\n",
              "    .colab-df-container {\n",
              "      display:flex;\n",
              "      flex-wrap:wrap;\n",
              "      gap: 12px;\n",
              "    }\n",
              "\n",
              "    .colab-df-convert {\n",
              "      background-color: #E8F0FE;\n",
              "      border: none;\n",
              "      border-radius: 50%;\n",
              "      cursor: pointer;\n",
              "      display: none;\n",
              "      fill: #1967D2;\n",
              "      height: 32px;\n",
              "      padding: 0 0 0 0;\n",
              "      width: 32px;\n",
              "    }\n",
              "\n",
              "    .colab-df-convert:hover {\n",
              "      background-color: #E2EBFA;\n",
              "      box-shadow: 0px 1px 2px rgba(60, 64, 67, 0.3), 0px 1px 3px 1px rgba(60, 64, 67, 0.15);\n",
              "      fill: #174EA6;\n",
              "    }\n",
              "\n",
              "    [theme=dark] .colab-df-convert {\n",
              "      background-color: #3B4455;\n",
              "      fill: #D2E3FC;\n",
              "    }\n",
              "\n",
              "    [theme=dark] .colab-df-convert:hover {\n",
              "      background-color: #434B5C;\n",
              "      box-shadow: 0px 1px 3px 1px rgba(0, 0, 0, 0.15);\n",
              "      filter: drop-shadow(0px 1px 2px rgba(0, 0, 0, 0.3));\n",
              "      fill: #FFFFFF;\n",
              "    }\n",
              "  </style>\n",
              "\n",
              "      <script>\n",
              "        const buttonEl =\n",
              "          document.querySelector('#df-9e8fd144-227d-4fa6-bca4-c2d9ce483f6a button.colab-df-convert');\n",
              "        buttonEl.style.display =\n",
              "          google.colab.kernel.accessAllowed ? 'block' : 'none';\n",
              "\n",
              "        async function convertToInteractive(key) {\n",
              "          const element = document.querySelector('#df-9e8fd144-227d-4fa6-bca4-c2d9ce483f6a');\n",
              "          const dataTable =\n",
              "            await google.colab.kernel.invokeFunction('convertToInteractive',\n",
              "                                                     [key], {});\n",
              "          if (!dataTable) return;\n",
              "\n",
              "          const docLinkHtml = 'Like what you see? Visit the ' +\n",
              "            '<a target=\"_blank\" href=https://colab.research.google.com/notebooks/data_table.ipynb>data table notebook</a>'\n",
              "            + ' to learn more about interactive tables.';\n",
              "          element.innerHTML = '';\n",
              "          dataTable['output_type'] = 'display_data';\n",
              "          await google.colab.output.renderOutput(dataTable, element);\n",
              "          const docLink = document.createElement('div');\n",
              "          docLink.innerHTML = docLinkHtml;\n",
              "          element.appendChild(docLink);\n",
              "        }\n",
              "      </script>\n",
              "    </div>\n",
              "  </div>\n",
              "  "
            ],
            "text/plain": [
              "     month         town flat_type storey_range  floor_area_sqm  \\\n",
              "0  2001-08    pasir ris    4 room     01 to 03           118.0   \n",
              "1  2014-10      punggol    5-room     10 to 12           110.0   \n",
              "2  2020-09     sengkang    5 room     01 to 03           112.0   \n",
              "3  2000-10     clementi    3 room     07 to 09            67.0   \n",
              "4  2013-01  bukit batok    3-room     07 to 09            73.0   \n",
              "\n",
              "          flat_model  lease_commence_date  latitude   longitude  \\\n",
              "0            model a                 1989  1.369008  103.958697   \n",
              "1           improved                 2003  1.399007  103.906991   \n",
              "2  premium apartment                 2004  1.388348  103.873815   \n",
              "3     new generation                 1980  1.318493  103.766702   \n",
              "4            model a                 1985  1.348149  103.742658   \n",
              "\n",
              "          subzone  ...    20-39    40-59     60+  mrt  sp_mall  \\\n",
              "0   pasirrisdrive  ...  17070.0  20220.0  8200.0    0        0   \n",
              "1    punggolfield  ...  12410.0  13550.0  4990.0    1        0   \n",
              "2        fernvale  ...  13740.0   8090.0  3760.0    1        1   \n",
              "3   clementinorth  ...   7650.0   8600.0  7820.0    1        1   \n",
              "4  bukitbatokwest  ...   4400.0   4900.0  2740.0    0        0   \n",
              "\n",
              "   secondary_school  primary_school  hawker  commercial_centre  \\\n",
              "0                 0               0       0                  0   \n",
              "1                 1               0       0                  0   \n",
              "2                 0               0       0                  0   \n",
              "3                 0               0       0                  0   \n",
              "4                 0               0       0                  0   \n",
              "\n",
              "   remaining_lease  \n",
              "0               87  \n",
              "1               88  \n",
              "2               83  \n",
              "3               79  \n",
              "4               71  \n",
              "\n",
              "[5 rows x 23 columns]"
            ]
          },
          "execution_count": 23,
          "metadata": {},
          "output_type": "execute_result"
        }
      ],
      "source": [
        "print('\\nThe dataset now has {} features\\n'.format(df.shape[1]))\n",
        "df.head()"
      ]
    },
    {
      "cell_type": "code",
      "execution_count": 34,
      "metadata": {
        "id": "fzRGyefCZP0O"
      },
      "outputs": [],
      "source": [
        "df['0-19'] = df['0-19'].fillna(df['0-19'].mean())\n",
        "df['20-39'] = df['20-39'].fillna(df['20-39'].mean())\n",
        "df['40-59'] = df['40-59'].fillna(df['40-59'].mean())\n",
        "df['60+'] = df['60+'].fillna(df['60+'].mean())"
      ]
    },
    {
      "cell_type": "code",
      "execution_count": 35,
      "metadata": {
        "colab": {
          "base_uri": "https://localhost:8080/"
        },
        "id": "cRLDXVVgZtft",
        "outputId": "061006d1-fec8-4d5c-be67-045579aa4fa2"
      },
      "outputs": [
        {
          "data": {
            "text/plain": [
              "month                  0\n",
              "town                   0\n",
              "flat_type              0\n",
              "storey_range           0\n",
              "floor_area_sqm         0\n",
              "flat_model             0\n",
              "lease_commence_date    0\n",
              "latitude               0\n",
              "longitude              0\n",
              "subzone                0\n",
              "planning_area          0\n",
              "region                 0\n",
              "0-19                   0\n",
              "20-39                  0\n",
              "40-59                  0\n",
              "60+                    0\n",
              "mrt                    0\n",
              "sp_mall                0\n",
              "secondary_school       0\n",
              "primary_school         0\n",
              "hawker                 0\n",
              "commercial_centre      0\n",
              "remaining_lease        0\n",
              "dtype: int64"
            ]
          },
          "execution_count": 35,
          "metadata": {},
          "output_type": "execute_result"
        }
      ],
      "source": [
        "df.isna().sum()"
      ]
    },
    {
      "cell_type": "markdown",
      "metadata": {
        "id": "4NfPiNP1ELWV"
      },
      "source": [
        "### Check highly skewed features\n",
        "\n",
        "*It is important to ensure that no numerical feature is highly skewed*"
      ]
    },
    {
      "cell_type": "code",
      "execution_count": 26,
      "metadata": {
        "colab": {
          "base_uri": "https://localhost:8080/",
          "height": 646
        },
        "id": "xGp2HKvLGfBK",
        "outputId": "385ba0a9-10c4-40b6-febd-0d897b41cd3a"
      },
      "outputs": [
        {
          "data": {
            "image/png": "[encoded data removed]",
            "text/plain": [
              "<Figure size 800x700 with 1 Axes>"
            ]
          },
          "metadata": {},
          "output_type": "display_data"
        }
      ],
      "source": [
        "# List all numerical features\n",
        "numerical_features = ['floor_area_sqm', 'remaining_lease', 'latitude', 'longitude', '0-19', '20-39', '40-59','60+']\n",
        "\n",
        "\n",
        "# Boxplot to visualize the skewness of the numerical features\n",
        "sns.set_style(\"white\")\n",
        "\n",
        "f, ax = plt.subplots(figsize=(8, 7))\n",
        "\n",
        "ax.set_xscale(\"log\")\n",
        "ax = sns.boxplot(data=df[numerical_features] , orient=\"h\", palette=\"Set1\")\n",
        "ax.xaxis.grid(False)\n",
        "ax.set(ylabel=\"Features\")\n",
        "ax.set(xlabel=\"Numerical values\")\n",
        "ax.set(title=\"Distribution of Features\")\n",
        "\n",
        "sns.despine(trim=True, left=True)"
      ]
    },
    {
      "cell_type": "code",
      "execution_count": 27,
      "metadata": {
        "colab": {
          "base_uri": "https://localhost:8080/"
        },
        "id": "3bZUkg_fQTZP",
        "outputId": "54203bc1-f17b-48de-d16b-911a23ed0fa3"
      },
      "outputs": [
        {
          "name": "stdout",
          "output_type": "stream",
          "text": [
            "There are 0 numerical features with skewness > 0.5 :\n",
            "\n"
          ]
        },
        {
          "data": {
            "text/plain": [
              "Series([], dtype: float64)"
            ]
          },
          "execution_count": 27,
          "metadata": {},
          "output_type": "execute_result"
        }
      ],
      "source": [
        "# Check skewness of all features\n",
        "skewness = df[numerical_features].apply(lambda x: skew(x))\n",
        "\n",
        "high_skewed = skewness[abs(skewness) > 0.5]\n",
        "\n",
        "print(\"There are {} numerical features with skewness > 0.5 :\\n\".format(high_skewed.shape[0]))\n",
        "high_skewed"
      ]
    },
    {
      "cell_type": "markdown",
      "metadata": {
        "id": "XZDuDUo5RtYV"
      },
      "source": [
        "Great, we have no highly skewed numerical features in our dataset\n",
        "\n",
        "\n",
        "*Note: We use the scipy function boxcox1p which computes the Box-Cox transformation to normalize skewed data.*"
      ]
    },
    {
      "cell_type": "code",
      "execution_count": null,
      "metadata": {
        "id": "kJAqIiz5RqAf"
      },
      "outputs": [],
      "source": [
        "# We don't need this anymore\n",
        "# df[high_skewed.index] = boxcox1p(df[high_skewed.index], boxcox_normmax(df[high_skewed.index] + 1))"
      ]
    },
    {
      "cell_type": "markdown",
      "metadata": {
        "id": "WMRs3SpEyC8U"
      },
      "source": [
        "### Eliminate ambiguity in the dataset"
      ]
    },
    {
      "cell_type": "code",
      "execution_count": 36,
      "metadata": {
        "colab": {
          "base_uri": "https://localhost:8080/",
          "height": 667
        },
        "id": "ErF9DwJIzVo6",
        "outputId": "5a067b30-35f6-4912-eee5-43be4b2a129e"
      },
      "outputs": [
        {
          "name": "stdout",
          "output_type": "stream",
          "text": [
            "Before eliminating ambiguity:  ['4 room' '5-room' '5 room' '3 room' '3-room' 'executive' '2 room'\n",
            " '4-room' 'multi generation' '2-room' '1-room' '1 room'] \n",
            "\n",
            "==========================================================\n",
            "After eliminating ambiguity:  ['4-room' '5-room' '3-room' 'executive' '2-room' 'multi generation'\n",
            " '1-room'] \n",
            "\n"
          ]
        },
        {
          "data": {
            "image/png": "[encoded data removed]",
            "text/plain": [
              "<Figure size 800x500 with 1 Axes>"
            ]
          },
          "metadata": {},
          "output_type": "display_data"
        }
      ],
      "source": [
        "# Notice that 1-room and 1 room in 'flat_type' are really the same thing\n",
        "print('Before eliminating ambiguity: ', df['flat_type'].unique(), '\\n')\n",
        "df['flat_type'].unique()\n",
        "print(\"==========================================================\")\n",
        "# Fix the problem\n",
        "df['flat_type'] = df['flat_type'].replace({'1 room': '1-room', '2 room': '2-room', '3 room': '3-room', '4 room': '4-room', '5 room': '5-room'})\n",
        "print('After eliminating ambiguity: ', df['flat_type'].unique(), '\\n')\n",
        "\n",
        "# Plot the distribution again\n",
        "\n",
        "fig = plt.figure(figsize=(8, 5))\n",
        "sns.histplot(test['flat_type'])\n",
        "plt.xticks(rotation=45)\n",
        "plt.show()"
      ]
    },
    {
      "cell_type": "code",
      "execution_count": 37,
      "metadata": {
        "id": "BrJZQo39XDgU"
      },
      "outputs": [],
      "source": [
        "df = df[df['floor_area_sqm'] > 0]"
      ]
    },
    {
      "cell_type": "markdown",
      "metadata": {
        "id": "P7sKnjxdTR4Y"
      },
      "source": [
        "### Encoding categorical features"
      ]
    },
    {
      "cell_type": "code",
      "execution_count": 39,
      "metadata": {
        "colab": {
          "base_uri": "https://localhost:8080/"
        },
        "id": "XPAmxtOjw7XU",
        "outputId": "fbae91c6-6ec8-47e3-dff2-9563afc074a8"
      },
      "outputs": [
        {
          "data": {
            "text/plain": [
              "month                   object\n",
              "town                    object\n",
              "flat_type               object\n",
              "storey_range            object\n",
              "floor_area_sqm         float64\n",
              "flat_model              object\n",
              "lease_commence_date      int64\n",
              "latitude               float64\n",
              "longitude              float64\n",
              "subzone                 object\n",
              "planning_area           object\n",
              "region                  object\n",
              "0-19                   float64\n",
              "20-39                  float64\n",
              "40-59                  float64\n",
              "60+                    float64\n",
              "mrt                      int64\n",
              "sp_mall                  int64\n",
              "secondary_school         int64\n",
              "primary_school           int64\n",
              "hawker                   int64\n",
              "commercial_centre        int64\n",
              "remaining_lease          int64\n",
              "dtype: object"
            ]
          },
          "execution_count": 39,
          "metadata": {},
          "output_type": "execute_result"
        }
      ],
      "source": [
        "# First check data types\n",
        "df.dtypes"
      ]
    },
    {
      "cell_type": "code",
      "execution_count": 40,
      "metadata": {
        "id": "JKbIwhuuTRQT"
      },
      "outputs": [],
      "source": [
        "# As we mentioned before, 'lease_commence_date' should be treated as categorical feature\n",
        "df['lease_commence_date'] = df['lease_commence_date'].apply(str)"
      ]
    },
    {
      "cell_type": "code",
      "execution_count": 41,
      "metadata": {
        "colab": {
          "base_uri": "https://localhost:8080/"
        },
        "id": "0qr8ySzAmwVf",
        "outputId": "6e9b6a49-f463-41f1-81ea-a0cb7deaa9be"
      },
      "outputs": [
        {
          "name": "stdout",
          "output_type": "stream",
          "text": [
            "There are 7 features need to be label encoded: \n",
            "\n",
            "['month', 'town', 'storey_range', 'flat_model', 'lease_commence_date', 'subzone', 'planning_area']\n"
          ]
        }
      ],
      "source": [
        "# Label Encoding categorical features that contain information in their ordering set or have too many distinct values\n",
        "label_features = []\n",
        "for col in df.columns:\n",
        "  if df[col].dtype == 'object':\n",
        "    if df[col].nunique() > 10: label_features.append(col)\n",
        "\n",
        "print('There are {} features need to be label encoded: \\n'.format(len(label_features)))\n",
        "print(label_features)"
      ]
    },
    {
      "cell_type": "code",
      "execution_count": 42,
      "metadata": {
        "id": "l_pCCHuFzaTp"
      },
      "outputs": [],
      "source": [
        "for feature in label_features:\n",
        "    lbl = LabelEncoder() \n",
        "    lbl.fit(list(df[feature].values)) \n",
        "    df[feature] = lbl.transform(list(df[feature].values))"
      ]
    },
    {
      "cell_type": "code",
      "execution_count": 43,
      "metadata": {
        "colab": {
          "base_uri": "https://localhost:8080/",
          "height": 335
        },
        "id": "_zNOp3vx0cVt",
        "outputId": "8a182abf-1fa8-4840-8c2d-47a84c0cba1d"
      },
      "outputs": [
        {
          "name": "stdout",
          "output_type": "stream",
          "text": [
            "The final dataset has 539666 rows and 33 columns\n"
          ]
        },
        {
          "data": {
            "text/html": [
              "\n",
              "  <div id=\"df-114af0ff-c60d-4e68-a5a5-caf4c63ae88d\">\n",
              "    <div class=\"colab-df-container\">\n",
              "      <div>\n",
              "<style scoped>\n",
              "    .dataframe tbody tr th:only-of-type {\n",
              "        vertical-align: middle;\n",
              "    }\n",
              "\n",
              "    .dataframe tbody tr th {\n",
              "        vertical-align: top;\n",
              "    }\n",
              "\n",
              "    .dataframe thead th {\n",
              "        text-align: right;\n",
              "    }\n",
              "</style>\n",
              "<table border=\"1\" class=\"dataframe\">\n",
              "  <thead>\n",
              "    <tr style=\"text-align: right;\">\n",
              "      <th></th>\n",
              "      <th>month</th>\n",
              "      <th>town</th>\n",
              "      <th>storey_range</th>\n",
              "      <th>floor_area_sqm</th>\n",
              "      <th>flat_model</th>\n",
              "      <th>lease_commence_date</th>\n",
              "      <th>latitude</th>\n",
              "      <th>longitude</th>\n",
              "      <th>subzone</th>\n",
              "      <th>planning_area</th>\n",
              "      <th>...</th>\n",
              "      <th>flat_type_3-room</th>\n",
              "      <th>flat_type_4-room</th>\n",
              "      <th>flat_type_5-room</th>\n",
              "      <th>flat_type_executive</th>\n",
              "      <th>flat_type_multi generation</th>\n",
              "      <th>region_central region</th>\n",
              "      <th>region_east region</th>\n",
              "      <th>region_north region</th>\n",
              "      <th>region_north-east region</th>\n",
              "      <th>region_west region</th>\n",
              "    </tr>\n",
              "  </thead>\n",
              "  <tbody>\n",
              "    <tr>\n",
              "      <th>0</th>\n",
              "      <td>19</td>\n",
              "      <td>16</td>\n",
              "      <td>0</td>\n",
              "      <td>118.0</td>\n",
              "      <td>7</td>\n",
              "      <td>23</td>\n",
              "      <td>1.369008</td>\n",
              "      <td>103.958697</td>\n",
              "      <td>94</td>\n",
              "      <td>19</td>\n",
              "      <td>...</td>\n",
              "      <td>0</td>\n",
              "      <td>1</td>\n",
              "      <td>0</td>\n",
              "      <td>0</td>\n",
              "      <td>0</td>\n",
              "      <td>0</td>\n",
              "      <td>1</td>\n",
              "      <td>0</td>\n",
              "      <td>0</td>\n",
              "      <td>0</td>\n",
              "    </tr>\n",
              "    <tr>\n",
              "      <th>1</th>\n",
              "      <td>177</td>\n",
              "      <td>17</td>\n",
              "      <td>5</td>\n",
              "      <td>110.0</td>\n",
              "      <td>4</td>\n",
              "      <td>37</td>\n",
              "      <td>1.399007</td>\n",
              "      <td>103.906991</td>\n",
              "      <td>100</td>\n",
              "      <td>20</td>\n",
              "      <td>...</td>\n",
              "      <td>0</td>\n",
              "      <td>0</td>\n",
              "      <td>1</td>\n",
              "      <td>0</td>\n",
              "      <td>0</td>\n",
              "      <td>0</td>\n",
              "      <td>0</td>\n",
              "      <td>0</td>\n",
              "      <td>1</td>\n",
              "      <td>0</td>\n",
              "    </tr>\n",
              "    <tr>\n",
              "      <th>2</th>\n",
              "      <td>248</td>\n",
              "      <td>20</td>\n",
              "      <td>0</td>\n",
              "      <td>112.0</td>\n",
              "      <td>12</td>\n",
              "      <td>38</td>\n",
              "      <td>1.388348</td>\n",
              "      <td>103.873815</td>\n",
              "      <td>46</td>\n",
              "      <td>24</td>\n",
              "      <td>...</td>\n",
              "      <td>0</td>\n",
              "      <td>0</td>\n",
              "      <td>1</td>\n",
              "      <td>0</td>\n",
              "      <td>0</td>\n",
              "      <td>0</td>\n",
              "      <td>0</td>\n",
              "      <td>0</td>\n",
              "      <td>1</td>\n",
              "      <td>0</td>\n",
              "    </tr>\n",
              "    <tr>\n",
              "      <th>3</th>\n",
              "      <td>9</td>\n",
              "      <td>9</td>\n",
              "      <td>4</td>\n",
              "      <td>67.0</td>\n",
              "      <td>11</td>\n",
              "      <td>14</td>\n",
              "      <td>1.318493</td>\n",
              "      <td>103.766702</td>\n",
              "      <td>34</td>\n",
              "      <td>9</td>\n",
              "      <td>...</td>\n",
              "      <td>1</td>\n",
              "      <td>0</td>\n",
              "      <td>0</td>\n",
              "      <td>0</td>\n",
              "      <td>0</td>\n",
              "      <td>0</td>\n",
              "      <td>0</td>\n",
              "      <td>0</td>\n",
              "      <td>0</td>\n",
              "      <td>1</td>\n",
              "    </tr>\n",
              "    <tr>\n",
              "      <th>4</th>\n",
              "      <td>156</td>\n",
              "      <td>3</td>\n",
              "      <td>4</td>\n",
              "      <td>73.0</td>\n",
              "      <td>7</td>\n",
              "      <td>19</td>\n",
              "      <td>1.348149</td>\n",
              "      <td>103.742658</td>\n",
              "      <td>22</td>\n",
              "      <td>3</td>\n",
              "      <td>...</td>\n",
              "      <td>1</td>\n",
              "      <td>0</td>\n",
              "      <td>0</td>\n",
              "      <td>0</td>\n",
              "      <td>0</td>\n",
              "      <td>0</td>\n",
              "      <td>0</td>\n",
              "      <td>0</td>\n",
              "      <td>0</td>\n",
              "      <td>1</td>\n",
              "    </tr>\n",
              "  </tbody>\n",
              "</table>\n",
              "<p>5 rows × 33 columns</p>\n",
              "</div>\n",
              "      <button class=\"colab-df-convert\" onclick=\"convertToInteractive('df-114af0ff-c60d-4e68-a5a5-caf4c63ae88d')\"\n",
              "              title=\"Convert this dataframe to an interactive table.\"\n",
              "              style=\"display:none;\">\n",
              "        \n",
              "  <svg xmlns=\"http://www.w3.org/2000/svg\" height=\"24px\"viewBox=\"0 0 24 24\"\n",
              "       width=\"24px\">\n",
              "    <path d=\"M0 0h24v24H0V0z\" fill=\"none\"/>\n",
              "    <path d=\"M18.56 5.44l.94 2.06.94-2.06 2.06-.94-2.06-.94-.94-2.06-.94 2.06-2.06.94zm-11 1L8.5 8.5l.94-2.06 2.06-.94-2.06-.94L8.5 2.5l-.94 2.06-2.06.94zm10 10l.94 2.06.94-2.06 2.06-.94-2.06-.94-.94-2.06-.94 2.06-2.06.94z\"/><path d=\"M17.41 7.96l-1.37-1.37c-.4-.4-.92-.59-1.43-.59-.52 0-1.04.2-1.43.59L10.3 9.45l-7.72 7.72c-.78.78-.78 2.05 0 2.83L4 21.41c.39.39.9.59 1.41.59.51 0 1.02-.2 1.41-.59l7.78-7.78 2.81-2.81c.8-.78.8-2.07 0-2.86zM5.41 20L4 18.59l7.72-7.72 1.47 1.35L5.41 20z\"/>\n",
              "  </svg>\n",
              "      </button>\n",
              "      \n",
              "  <style>\n",
              "    .colab-df-container {\n",
              "      display:flex;\n",
              "      flex-wrap:wrap;\n",
              "      gap: 12px;\n",
              "    }\n",
              "\n",
              "    .colab-df-convert {\n",
              "      background-color: #E8F0FE;\n",
              "      border: none;\n",
              "      border-radius: 50%;\n",
              "      cursor: pointer;\n",
              "      display: none;\n",
              "      fill: #1967D2;\n",
              "      height: 32px;\n",
              "      padding: 0 0 0 0;\n",
              "      width: 32px;\n",
              "    }\n",
              "\n",
              "    .colab-df-convert:hover {\n",
              "      background-color: #E2EBFA;\n",
              "      box-shadow: 0px 1px 2px rgba(60, 64, 67, 0.3), 0px 1px 3px 1px rgba(60, 64, 67, 0.15);\n",
              "      fill: #174EA6;\n",
              "    }\n",
              "\n",
              "    [theme=dark] .colab-df-convert {\n",
              "      background-color: #3B4455;\n",
              "      fill: #D2E3FC;\n",
              "    }\n",
              "\n",
              "    [theme=dark] .colab-df-convert:hover {\n",
              "      background-color: #434B5C;\n",
              "      box-shadow: 0px 1px 3px 1px rgba(0, 0, 0, 0.15);\n",
              "      filter: drop-shadow(0px 1px 2px rgba(0, 0, 0, 0.3));\n",
              "      fill: #FFFFFF;\n",
              "    }\n",
              "  </style>\n",
              "\n",
              "      <script>\n",
              "        const buttonEl =\n",
              "          document.querySelector('#df-114af0ff-c60d-4e68-a5a5-caf4c63ae88d button.colab-df-convert');\n",
              "        buttonEl.style.display =\n",
              "          google.colab.kernel.accessAllowed ? 'block' : 'none';\n",
              "\n",
              "        async function convertToInteractive(key) {\n",
              "          const element = document.querySelector('#df-114af0ff-c60d-4e68-a5a5-caf4c63ae88d');\n",
              "          const dataTable =\n",
              "            await google.colab.kernel.invokeFunction('convertToInteractive',\n",
              "                                                     [key], {});\n",
              "          if (!dataTable) return;\n",
              "\n",
              "          const docLinkHtml = 'Like what you see? Visit the ' +\n",
              "            '<a target=\"_blank\" href=https://colab.research.google.com/notebooks/data_table.ipynb>data table notebook</a>'\n",
              "            + ' to learn more about interactive tables.';\n",
              "          element.innerHTML = '';\n",
              "          dataTable['output_type'] = 'display_data';\n",
              "          await google.colab.output.renderOutput(dataTable, element);\n",
              "          const docLink = document.createElement('div');\n",
              "          docLink.innerHTML = docLinkHtml;\n",
              "          element.appendChild(docLink);\n",
              "        }\n",
              "      </script>\n",
              "    </div>\n",
              "  </div>\n",
              "  "
            ],
            "text/plain": [
              "   month  town  storey_range  floor_area_sqm  flat_model  lease_commence_date  \\\n",
              "0     19    16             0           118.0           7                   23   \n",
              "1    177    17             5           110.0           4                   37   \n",
              "2    248    20             0           112.0          12                   38   \n",
              "3      9     9             4            67.0          11                   14   \n",
              "4    156     3             4            73.0           7                   19   \n",
              "\n",
              "   latitude   longitude  subzone  planning_area  ...  flat_type_3-room  \\\n",
              "0  1.369008  103.958697       94             19  ...                 0   \n",
              "1  1.399007  103.906991      100             20  ...                 0   \n",
              "2  1.388348  103.873815       46             24  ...                 0   \n",
              "3  1.318493  103.766702       34              9  ...                 1   \n",
              "4  1.348149  103.742658       22              3  ...                 1   \n",
              "\n",
              "   flat_type_4-room  flat_type_5-room  flat_type_executive  \\\n",
              "0                 1                 0                    0   \n",
              "1                 0                 1                    0   \n",
              "2                 0                 1                    0   \n",
              "3                 0                 0                    0   \n",
              "4                 0                 0                    0   \n",
              "\n",
              "   flat_type_multi generation  region_central region  region_east region  \\\n",
              "0                           0                      0                   1   \n",
              "1                           0                      0                   0   \n",
              "2                           0                      0                   0   \n",
              "3                           0                      0                   0   \n",
              "4                           0                      0                   0   \n",
              "\n",
              "   region_north region  region_north-east region  region_west region  \n",
              "0                    0                         0                   0  \n",
              "1                    0                         1                   0  \n",
              "2                    0                         1                   0  \n",
              "3                    0                         0                   1  \n",
              "4                    0                         0                   1  \n",
              "\n",
              "[5 rows x 33 columns]"
            ]
          },
          "execution_count": 43,
          "metadata": {},
          "output_type": "execute_result"
        }
      ],
      "source": [
        "# One hot encoding the rest categorical features\n",
        "df = pd.get_dummies(df)\n",
        "print('The final dataset has {} rows and {} columns'.format(df.shape[0], df.shape[1]))\n",
        "df.head()"
      ]
    },
    {
      "cell_type": "code",
      "execution_count": 44,
      "metadata": {
        "colab": {
          "base_uri": "https://localhost:8080/"
        },
        "id": "-3sGD21JqEQp",
        "outputId": "f7305868-8779-4037-fa62-90309e084619"
      },
      "outputs": [
        {
          "data": {
            "text/plain": [
              "month                           int64\n",
              "town                            int64\n",
              "storey_range                    int64\n",
              "floor_area_sqm                float64\n",
              "flat_model                      int64\n",
              "lease_commence_date             int64\n",
              "latitude                      float64\n",
              "longitude                     float64\n",
              "subzone                         int64\n",
              "planning_area                   int64\n",
              "0-19                          float64\n",
              "20-39                         float64\n",
              "40-59                         float64\n",
              "60+                           float64\n",
              "mrt                             int64\n",
              "sp_mall                         int64\n",
              "secondary_school                int64\n",
              "primary_school                  int64\n",
              "hawker                          int64\n",
              "commercial_centre               int64\n",
              "remaining_lease                 int64\n",
              "flat_type_1-room                uint8\n",
              "flat_type_2-room                uint8\n",
              "flat_type_3-room                uint8\n",
              "flat_type_4-room                uint8\n",
              "flat_type_5-room                uint8\n",
              "flat_type_executive             uint8\n",
              "flat_type_multi generation      uint8\n",
              "region_central region           uint8\n",
              "region_east region              uint8\n",
              "region_north region             uint8\n",
              "region_north-east region        uint8\n",
              "region_west region              uint8\n",
              "dtype: object"
            ]
          },
          "execution_count": 44,
          "metadata": {},
          "output_type": "execute_result"
        }
      ],
      "source": [
        "df.dtypes"
      ]
    },
    {
      "cell_type": "code",
      "execution_count": null,
      "metadata": {
        "id": "CW_djStzyK0x"
      },
      "outputs": [],
      "source": [
        "# Save a copy\n",
        "df.to_csv('data_combined_processed.csv', index=False)"
      ]
    },
    {
      "cell_type": "markdown",
      "metadata": {
        "id": "2MgCaL240wCt"
      },
      "source": [
        "### Split the combined dataset back to training and testing sets"
      ]
    },
    {
      "cell_type": "code",
      "execution_count": 45,
      "metadata": {
        "id": "AZwpEDQr0-Wi"
      },
      "outputs": [],
      "source": [
        "train = df[:train.shape[0]].reset_index(drop=True)\n",
        "test = df[train.shape[0]:].reset_index(drop=True)"
      ]
    },
    {
      "cell_type": "code",
      "execution_count": 46,
      "metadata": {
        "id": "37bzd1w62uou"
      },
      "outputs": [],
      "source": [
        "train = pd.concat([train, target_variable], axis = 1)"
      ]
    },
    {
      "cell_type": "markdown",
      "metadata": {
        "id": "EmhLoth5qmsU"
      },
      "source": [
        "### Drop duplicated data"
      ]
    },
    {
      "cell_type": "code",
      "execution_count": 48,
      "metadata": {
        "colab": {
          "base_uri": "https://localhost:8080/"
        },
        "id": "bGKUoFkXoudO",
        "outputId": "fbcd47c8-a4df-4dc2-bfdb-544bac18c2d2"
      },
      "outputs": [
        {
          "name": "stdout",
          "output_type": "stream",
          "text": [
            "There are 67 duplicate records in the dataset\n"
          ]
        }
      ],
      "source": [
        "# Fetch all duplicate records in training set\n",
        "duplicates = train[train.duplicated()]\n",
        "print('There are {} duplicate records in the dataset'.format(duplicates.shape[0]))"
      ]
    },
    {
      "cell_type": "code",
      "execution_count": 49,
      "metadata": {
        "colab": {
          "base_uri": "https://localhost:8080/"
        },
        "id": "uf_d-xtaowag",
        "outputId": "4ba5865a-36d8-4035-8a32-102212b304d4"
      },
      "outputs": [
        {
          "name": "stdout",
          "output_type": "stream",
          "text": [
            "After dropping duplicate data, the training dataset now has 431665 rows\n"
          ]
        }
      ],
      "source": [
        "# Drop duplicate records and reset index\n",
        "train = train.drop_duplicates(ignore_index=True)\n",
        "print('After dropping duplicate data, the training dataset now has {} rows'.format(train.shape[0]))"
      ]
    },
    {
      "cell_type": "code",
      "execution_count": 50,
      "metadata": {
        "id": "ES6D44TBq1e8"
      },
      "outputs": [],
      "source": [
        "# save the processed dataset\n",
        "train.to_csv('train_processed.csv', index=False)\n",
        "test.to_csv('test_processed.csv', index=False)"
      ]
    }
  ],
  "metadata": {
    "colab": {
      "provenance": []
    },
    "kernelspec": {
      "display_name": "Python 3",
      "name": "python3"
    },
    "language_info": {
      "name": "python"
    }
  },
  "nbformat": 4,
  "nbformat_minor": 0
}
