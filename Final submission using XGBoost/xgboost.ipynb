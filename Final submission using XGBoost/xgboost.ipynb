{
  "cells": [
    {
      "cell_type": "code",
      "execution_count": null,
      "metadata": {
        "id": "WTByJycVUJwS"
      },
      "outputs": [],
      "source": [
        "# Chios\n",
        "import numpy as np \n",
        "import pandas as pd\n",
        "from xgboost import XGBRegressor\n",
        "from sklearn.model_selection import KFold, cross_val_score\n",
        "from sklearn.metrics import mean_absolute_error, mean_squared_error\n",
        "import seaborn as sns\n",
        "import matplotlib.pyplot as plt"
      ]
    },
    {
      "cell_type": "code",
      "execution_count": null,
      "metadata": {
        "id": "b74aFfrfawWS"
      },
      "outputs": [],
      "source": [
        "train = pd.read_csv('/content/houseprice/train_processed.csv')\n",
        "test = pd.read_csv('/content/houseprice/test_processed.csv')"
      ]
    },
    {
      "cell_type": "code",
      "execution_count": null,
      "metadata": {
        "id": "w2oKEoPMa3bv"
      },
      "outputs": [],
      "source": [
        "target_variable = train.resale_price.values\n",
        "train = train.drop(['resale_price'], axis=1)"
      ]
    },
    {
      "cell_type": "code",
      "execution_count": null,
      "metadata": {
        "id": "Ie-PCSeea6QH"
      },
      "outputs": [],
      "source": [
        "kf = KFold(n_splits=10, random_state=42, shuffle=True)\n",
        "cv_scores = []\n",
        "cv_std = []\n",
        "    \n",
        "def rmse(y, y_pred):\n",
        "    return np.sqrt(mean_squared_error(y, y_pred))\n",
        "\n",
        "def cv_rmse(model):\n",
        "    rmse = np.sqrt(-cross_val_score(model, train, target_variable, scoring=\"neg_mean_squared_error\", cv=kf))\n",
        "    return (rmse)"
      ]
    },
    {
      "cell_type": "code",
      "execution_count": null,
      "metadata": {
        "id": "y31qNnUxa7W-"
      },
      "outputs": [],
      "source": [
        "xgb = XGBRegressor(\n",
        "    reg_lambda=0.69,\n",
        "    max_depth=8,\n",
        "    reg_alpha=0.95,\n",
        "    colsample_bytree=0.8,\n",
        "    colsample_bylevel=0.65,\n",
        "    objective=\"reg:squarederror\",\n",
        "    n_estimators=2800,\n",
        "    random_state=42,\n",
        "    n_jobs=-1,\n",
        "    learning_rate=0.05,\n",
        "    subsample=0.8,\n",
        "    tree_method='gpu_hist'\n",
        ")"
      ]
    },
    {
      "cell_type": "code",
      "execution_count": null,
      "metadata": {
        "id": "WXrIsf7abQvw"
      },
      "outputs": [],
      "source": [
        "xgb_score = cv_rmse(xgb)\n",
        "print(\"mean: {}\".format(xgb_score.mean()))\n",
        "print(\"std: {}\".format(xgb_score.std()))"
      ]
    },
    {
      "cell_type": "code",
      "execution_count": null,
      "metadata": {
        "id": "vFVmwaAbbs5D"
      },
      "outputs": [],
      "source": [
        "xgb.fit(train, target_variable)"
      ]
    },
    {
      "cell_type": "code",
      "execution_count": null,
      "metadata": {},
      "outputs": [],
      "source": [
        "feature_scores = pd.Series(xgb.feature_importances_, index=train.columns).sort_values(ascending=False)\n",
        "f, ax = plt.subplots(figsize=(30, 24))\n",
        "ax = sns.barplot(x=feature_scores, y=feature_scores.index)\n",
        "ax.set_title(\"Visualize feature scores of the features\")\n",
        "ax.set_yticklabels(feature_scores.index)\n",
        "ax.set_xlabel(\"Feature importance score\")\n",
        "ax.set_ylabel(\"Features\")\n",
        "plt.show()\n",
        "plt.savefig(\"XGB-Features Importances\")"
      ]
    },
    {
      "cell_type": "code",
      "execution_count": null,
      "metadata": {},
      "outputs": [],
      "source": [
        "data = pd.DataFrame({\n",
        "    'prediction': np.expm1(xgb.predict(train)).reshape(1, -1)[0],\n",
        "    'target': np.expm1(target_variable)\n",
        "})\n",
        "sns.regplot(x='prediction', y='target', palette='Blues', data=data)"
      ]
    },
    {
      "cell_type": "code",
      "execution_count": null,
      "metadata": {
        "id": "z25EntrDb1nH"
      },
      "outputs": [],
      "source": [
        "prediction = np.expm1(xgb.predict(test))\n",
        "data = {'Id': np.arange(prediction.shape[0]), 'Predicted': prediction.reshape(1, -1)[0]}\n",
        "submission = pd.DataFrame(data=data)\n",
        "submission.to_csv('submission.csv', index=False)"
      ]
    }
  ],
  "metadata": {
    "colab": {
      "provenance": []
    },
    "kernelspec": {
      "display_name": "Python 3",
      "name": "python3"
    },
    "language_info": {
      "name": "python"
    }
  },
  "nbformat": 4,
  "nbformat_minor": 0
}
