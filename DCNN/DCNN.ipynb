{
  "nbformat": 4,
  "nbformat_minor": 0,
  "metadata": {
    "colab": {
      "provenance": []
    },
    "kernelspec": {
      "name": "python3",
      "display_name": "Python 3"
    },
    "language_info": {
      "name": "python"
    }
  },
  "cells": [
    {
      "cell_type": "code",
      "source": [
        "train = pd.read_csv('/content/houseprice/train_processed.csv') # REPLACE the path with yours\n",
        "test = pd.read_csv('/content/houseprice/test_processed.csv') # you should not need this"
      ],
      "metadata": {
        "id": "b74aFfrfawWS"
      },
      "execution_count": null,
      "outputs": []
    },
    {
      "cell_type": "code",
      "source": [
        "target_variable = train.resale_price.values\n",
        "train = train.drop(['resale_price'], axis=1)"
      ],
      "metadata": {
        "id": "w2oKEoPMa3bv"
      },
      "execution_count": null,
      "outputs": []
    },
    {
      "cell_type": "code",
      "source": [
        "import tensorflow as tf\n",
        "from tensorflow.keras import layers\n",
        "from tensorflow.keras.models import Sequential\n",
        "\n",
        "model = Sequential(\n",
        "    [\n",
        "        layers.Conv1D(128, 3, input_shape=(train.shape[1], 1)),\n",
        "        layers.BatchNormalization(),\n",
        "        layers.ReLU(),\n",
        "        layers.Conv1D(64, 3),\n",
        "        layers.BatchNormalization(),\n",
        "        layers.ReLU(),\n",
        "        layers.Conv1D(32, 3),\n",
        "        layers.BatchNormalization(),\n",
        "        layers.ReLU(),\n",
        "        layers.Flatten(),\n",
        "        layers.Dense(16, activation='relu'),\n",
        "        layers.Dense(1)\n",
        "    ]\n",
        ")\n",
        "\n",
        "model.compile(loss='mae', optimizer='adam')\n",
        "model.fit(train.values, target_variable, epochs=300, verbose=1, batch_size=64)"
      ],
      "metadata": {
        "id": "lFe_OuWXjiHv"
      },
      "execution_count": null,
      "outputs": []
    },
    {
      "cell_type": "code",
      "source": [
        "prediction = model.predict(test.values)"
      ],
      "metadata": {
        "id": "B95fGH6QuqRH"
      },
      "execution_count": null,
      "outputs": []
    }
  ]
}